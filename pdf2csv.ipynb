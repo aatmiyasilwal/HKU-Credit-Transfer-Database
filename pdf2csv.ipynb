{
 "cells": [
  {
   "cell_type": "code",
   "execution_count": 34,
   "metadata": {},
   "outputs": [],
   "source": [
    "import PyPDF2\n",
    "import camelot\n",
    "import pandas as pd"
   ]
  },
  {
   "cell_type": "code",
   "execution_count": 35,
   "metadata": {},
   "outputs": [],
   "source": [
    "#FAILED PYPDF IMPLEMENTATION\n",
    "\n",
    "# text = \"\"\n",
    "# with open(\"engg-credit-transfer-database.pdf\", 'rb') as file:\n",
    "#     reader = PyPDF2.PdfReader(file)\n",
    "#     for page in reader.pages:\n",
    "#         text += page.extract_text()\n",
    "\n",
    "# with open(\"tester.txt\", \"w+\") as tester_file:\n",
    "#     tester_file.write(text)\n"
   ]
  },
  {
   "cell_type": "code",
   "execution_count": 40,
   "metadata": {},
   "outputs": [
    {
     "data": {
      "text/plain": [
       "39"
      ]
     },
     "execution_count": 40,
     "metadata": {},
     "output_type": "execute_result"
    }
   ],
   "source": [
    "file = open(\"engg-credit-transfer-database.pdf\", 'rb')\n",
    "\n",
    "# store data in pdfReader\n",
    "pdfReader = PyPDF2.PdfReader(file)\n",
    "\n",
    "# count number of pages\n",
    "totalPages = len(pdfReader.pages)\n",
    "totalPages"
   ]
  },
  {
   "cell_type": "code",
   "execution_count": 43,
   "metadata": {},
   "outputs": [],
   "source": [
    "abc = camelot.read_pdf(\"engg-credit-transfer-database.pdf\", \n",
    "                       pages='1-end') #address of file location\n",
    "new_df = pd.DataFrame()\n",
    "\n",
    "for i in range(totalPages + 1):\n",
    "    if i == 0: new_df = abc[i].df\n",
    "    else: new_df = pd.concat([new_df, abc[i].df], ignore_index=True)\n",
    "\n",
    "# FOR CHECKING PURPOSES\n",
    "#new_df.to_csv(\"a.csv\",index=False)"
   ]
  }
 ],
 "metadata": {
  "kernelspec": {
   "display_name": "base",
   "language": "python",
   "name": "python3"
  },
  "language_info": {
   "codemirror_mode": {
    "name": "ipython",
    "version": 3
   },
   "file_extension": ".py",
   "mimetype": "text/x-python",
   "name": "python",
   "nbconvert_exporter": "python",
   "pygments_lexer": "ipython3",
   "version": "3.12.8"
  },
  "orig_nbformat": 4
 },
 "nbformat": 4,
 "nbformat_minor": 2
}
