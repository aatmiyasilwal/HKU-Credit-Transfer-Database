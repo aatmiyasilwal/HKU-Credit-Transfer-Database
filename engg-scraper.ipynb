{
 "cells": [
  {
   "cell_type": "code",
   "execution_count": 8,
   "metadata": {},
   "outputs": [],
   "source": [
    "import PyPDF2\n",
    "import camelot\n",
    "import pandas as pd"
   ]
  },
  {
   "cell_type": "code",
   "execution_count": 9,
   "metadata": {},
   "outputs": [],
   "source": [
    "#FAILED PYPDF IMPLEMENTATION\n",
    "\n",
    "# text = \"\"\n",
    "# with open(\"engg-credit-transfer-database.pdf\", 'rb') as file:\n",
    "#     reader = PyPDF2.PdfReader(file)\n",
    "#     for page in reader.pages:\n",
    "#         text += page.extract_text()\n",
    "\n",
    "# with open(\"tester.txt\", \"w+\") as tester_file:\n",
    "#     tester_file.write(text)\n"
   ]
  },
  {
   "cell_type": "code",
   "execution_count": 10,
   "metadata": {},
   "outputs": [
    {
     "data": {
      "text/plain": [
       "39"
      ]
     },
     "execution_count": 10,
     "metadata": {},
     "output_type": "execute_result"
    }
   ],
   "source": [
    "engg_file = open(\"engg-credit-transfer-database.pdf\", 'rb')\n",
    "\n",
    "#store data in pdfReader\n",
    "pdfReader = PyPDF2.PdfReader(engg_file)\n",
    "\n",
    "#count number of pages\n",
    "totalPages = len(pdfReader.pages)\n",
    "totalPages"
   ]
  },
  {
   "cell_type": "code",
   "execution_count": 11,
   "metadata": {},
   "outputs": [],
   "source": [
    "engg_pdf = camelot.read_pdf(\"engg-credit-transfer-database.pdf\", \n",
    "                       pages='1-end') #address of file location\n",
    "initial_df = pd.DataFrame()\n",
    "\n",
    "#add data to DF\n",
    "for i in range(totalPages + 1):\n",
    "    if i == 0: initial_df = engg_pdf[i].df\n",
    "    else: initial_df = pd.concat([initial_df, engg_pdf[i].df], ignore_index=True)\n"
   ]
  },
  {
   "cell_type": "code",
   "execution_count": 12,
   "metadata": {},
   "outputs": [],
   "source": [
    "initial_df.columns = ['BEng_Prog',\n",
    "                    'University',\n",
    "                    'University-Country',\n",
    "                    'Exchange-Course-Code',\n",
    "                    'Exchange-Course-Title',\n",
    "                    'HKU-Course-Code',\n",
    "                    'HKU-Course-Title',\n",
    "                    'Remarks']"
   ]
  },
  {
   "cell_type": "code",
   "execution_count": 13,
   "metadata": {},
   "outputs": [
    {
     "name": "stderr",
     "output_type": "stream",
     "text": [
      "/var/folders/nt/67mjll3s4fb1vnp8mvn0q2kh0000gn/T/ipykernel_36927/1441412203.py:15: SettingWithCopyWarning: \n",
      "A value is trying to be set on a copy of a slice from a DataFrame.\n",
      "Try using .loc[row_indexer,col_indexer] = value instead\n",
      "\n",
      "See the caveats in the documentation: https://pandas.pydata.org/pandas-docs/stable/user_guide/indexing.html#returning-a-view-versus-a-copy\n",
      "  cleaned_df['HKU-Course-Code'] = cleaned_df.apply(set_course_code, axis=1)\n",
      "/var/folders/nt/67mjll3s4fb1vnp8mvn0q2kh0000gn/T/ipykernel_36927/1441412203.py:18: SettingWithCopyWarning: \n",
      "A value is trying to be set on a copy of a slice from a DataFrame.\n",
      "Try using .loc[row_indexer,col_indexer] = value instead\n",
      "\n",
      "See the caveats in the documentation: https://pandas.pydata.org/pandas-docs/stable/user_guide/indexing.html#returning-a-view-versus-a-copy\n",
      "  cleaned_df['University'] = cleaned_df['University'].str.replace(\n"
     ]
    }
   ],
   "source": [
    "#cleaning if it is null, blank, or if it's a header\n",
    "cleaned_df = initial_df[initial_df['University'].str.strip().ne('') & \n",
    "                        (initial_df['University'] != 'University') & (initial_df['University'].notna())]\n",
    "\n",
    "#elective/discipline elective distinction\n",
    "def set_course_code(row):\n",
    "    if row['HKU-Course-Code'] == '':\n",
    "        if 'discipline' in row['HKU-Course-Title'].lower():\n",
    "            return row['BEng_Prog'] + 'XXXX'\n",
    "        else:\n",
    "            return 'ELECTIVE'\n",
    "    return row['HKU-Course-Code']  # Return the existing value if not blank\n",
    "\n",
    "# apply the function\n",
    "cleaned_df['HKU-Course-Code'] = cleaned_df.apply(set_course_code, axis=1)\n",
    "\n",
    "# encoding issues\n",
    "cleaned_df['University'] = cleaned_df['University'].str.replace(\n",
    "    \"Queen‚Äôs University, Kingston\", \n",
    "    \"Queen's University, Kingston\", \n",
    "    regex=False\n",
    ")"
   ]
  },
  {
   "cell_type": "code",
   "execution_count": 14,
   "metadata": {},
   "outputs": [
    {
     "data": {
      "text/html": [
       "<div>\n",
       "<style scoped>\n",
       "    .dataframe tbody tr th:only-of-type {\n",
       "        vertical-align: middle;\n",
       "    }\n",
       "\n",
       "    .dataframe tbody tr th {\n",
       "        vertical-align: top;\n",
       "    }\n",
       "\n",
       "    .dataframe thead th {\n",
       "        text-align: right;\n",
       "    }\n",
       "</style>\n",
       "<table border=\"1\" class=\"dataframe\">\n",
       "  <thead>\n",
       "    <tr style=\"text-align: right;\">\n",
       "      <th></th>\n",
       "      <th>University</th>\n",
       "      <th>University-Country</th>\n",
       "      <th>Exchange-Course-Code</th>\n",
       "      <th>Exchange-Course-Title</th>\n",
       "      <th>HKU-Course-Code</th>\n",
       "      <th>HKU-Course-Title</th>\n",
       "    </tr>\n",
       "  </thead>\n",
       "  <tbody>\n",
       "    <tr>\n",
       "      <th>6</th>\n",
       "      <td>Griffith University</td>\n",
       "      <td>Australia</td>\n",
       "      <td>2201ENG</td>\n",
       "      <td>Engineering Thermodynamics</td>\n",
       "      <td>MECH3402</td>\n",
       "      <td>Engineering thermodynamics</td>\n",
       "    </tr>\n",
       "    <tr>\n",
       "      <th>7</th>\n",
       "      <td>Griffith University</td>\n",
       "      <td>Australia</td>\n",
       "      <td>3004ENG</td>\n",
       "      <td>Project Management Principles</td>\n",
       "      <td>MECH4410</td>\n",
       "      <td>Engineering &amp; technology management</td>\n",
       "    </tr>\n",
       "    <tr>\n",
       "      <th>8</th>\n",
       "      <td>Griffith University</td>\n",
       "      <td>Australia</td>\n",
       "      <td>3319ENG</td>\n",
       "      <td>Power Transmission and Distribution</td>\n",
       "      <td>MECH3406</td>\n",
       "      <td>Electrical and electronic engineering</td>\n",
       "    </tr>\n",
       "    <tr>\n",
       "      <th>9</th>\n",
       "      <td>Griffith University</td>\n",
       "      <td>Australia</td>\n",
       "      <td>3505ENG</td>\n",
       "      <td>Heat and Mass Transfer</td>\n",
       "      <td>MECH4411</td>\n",
       "      <td>Heat transfer</td>\n",
       "    </tr>\n",
       "    <tr>\n",
       "      <th>10</th>\n",
       "      <td>Griffith University</td>\n",
       "      <td>Australia</td>\n",
       "      <td>3511ENG</td>\n",
       "      <td>Design of Machine Elements</td>\n",
       "      <td>MECH3427</td>\n",
       "      <td>Design and manufacture</td>\n",
       "    </tr>\n",
       "  </tbody>\n",
       "</table>\n",
       "</div>"
      ],
      "text/plain": [
       "             University University-Country Exchange-Course-Code  \\\n",
       "6   Griffith University          Australia              2201ENG   \n",
       "7   Griffith University          Australia              3004ENG   \n",
       "8   Griffith University          Australia              3319ENG   \n",
       "9   Griffith University          Australia              3505ENG   \n",
       "10  Griffith University          Australia              3511ENG   \n",
       "\n",
       "                  Exchange-Course-Title HKU-Course-Code  \\\n",
       "6            Engineering Thermodynamics        MECH3402   \n",
       "7         Project Management Principles        MECH4410   \n",
       "8   Power Transmission and Distribution        MECH3406   \n",
       "9                Heat and Mass Transfer        MECH4411   \n",
       "10           Design of Machine Elements        MECH3427   \n",
       "\n",
       "                         HKU-Course-Title  \n",
       "6              Engineering thermodynamics  \n",
       "7     Engineering & technology management  \n",
       "8   Electrical and electronic engineering  \n",
       "9                           Heat transfer  \n",
       "10                 Design and manufacture  "
      ]
     },
     "execution_count": 14,
     "metadata": {},
     "output_type": "execute_result"
    }
   ],
   "source": [
    "cleaned_df = cleaned_df.drop(columns=[\"BEng_Prog\", \"Remarks\"])\n",
    "cleaned_df[:5]"
   ]
  },
  {
   "cell_type": "code",
   "execution_count": 15,
   "metadata": {},
   "outputs": [],
   "source": [
    "# FOR CHECKING PURPOSES\n",
    "# cleaned_df.iloc[716]\n",
    "cleaned_df.to_csv(\"engg-credit_transfer_database.csv\",index=False)"
   ]
  }
 ],
 "metadata": {
  "kernelspec": {
   "display_name": "base",
   "language": "python",
   "name": "python3"
  },
  "language_info": {
   "codemirror_mode": {
    "name": "ipython",
    "version": 3
   },
   "file_extension": ".py",
   "mimetype": "text/x-python",
   "name": "python",
   "nbconvert_exporter": "python",
   "pygments_lexer": "ipython3",
   "version": "3.12.8"
  },
  "orig_nbformat": 4
 },
 "nbformat": 4,
 "nbformat_minor": 2
}
